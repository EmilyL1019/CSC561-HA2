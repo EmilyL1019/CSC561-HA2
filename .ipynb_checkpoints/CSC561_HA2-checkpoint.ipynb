{
 "cells": [
  {
   "cell_type": "markdown",
   "id": "69ec5e5c-134e-47d9-967d-3c46d85a3fdb",
   "metadata": {},
   "source": [
    "Emily, AJ, & Andres\n",
    "Assignment 2\n",
    "CSC 561 - Professor Alvarez\n",
    "4/18/2025"
   ]
  },
  {
   "cell_type": "code",
   "execution_count": 1,
   "id": "bd16e0f6-9949-4b72-ad4a-bb0c6cd0a8c1",
   "metadata": {},
   "outputs": [
    {
     "name": "stdout",
     "output_type": "stream",
     "text": [
      "Defaulting to user installation because normal site-packages is not writeable\n",
      "Requirement already satisfied: torch in ./.local/lib/python3.11/site-packages (2.6.0)\n",
      "Requirement already satisfied: torchvision in ./.local/lib/python3.11/site-packages (0.21.0)\n",
      "Requirement already satisfied: torchaudio in ./.local/lib/python3.11/site-packages (2.6.0)\n",
      "Requirement already satisfied: filelock in ./.local/lib/python3.11/site-packages (from torch) (3.18.0)\n",
      "Requirement already satisfied: typing-extensions>=4.10.0 in ./.local/lib/python3.11/site-packages (from torch) (4.13.2)\n",
      "Requirement already satisfied: networkx in ./.local/lib/python3.11/site-packages (from torch) (3.4.2)\n",
      "Requirement already satisfied: jinja2 in /modules/apps/ood/jupyterlab-matlab/lib/python3.11/site-packages (from torch) (3.1.2)\n",
      "Requirement already satisfied: fsspec in ./.local/lib/python3.11/site-packages (from torch) (2025.3.2)\n",
      "Requirement already satisfied: nvidia-cuda-nvrtc-cu12==12.4.127 in ./.local/lib/python3.11/site-packages (from torch) (12.4.127)\n",
      "Requirement already satisfied: nvidia-cuda-runtime-cu12==12.4.127 in ./.local/lib/python3.11/site-packages (from torch) (12.4.127)\n",
      "Requirement already satisfied: nvidia-cuda-cupti-cu12==12.4.127 in ./.local/lib/python3.11/site-packages (from torch) (12.4.127)\n",
      "Requirement already satisfied: nvidia-cudnn-cu12==9.1.0.70 in ./.local/lib/python3.11/site-packages (from torch) (9.1.0.70)\n",
      "Requirement already satisfied: nvidia-cublas-cu12==12.4.5.8 in ./.local/lib/python3.11/site-packages (from torch) (12.4.5.8)\n",
      "Requirement already satisfied: nvidia-cufft-cu12==11.2.1.3 in ./.local/lib/python3.11/site-packages (from torch) (11.2.1.3)\n",
      "Requirement already satisfied: nvidia-curand-cu12==10.3.5.147 in ./.local/lib/python3.11/site-packages (from torch) (10.3.5.147)\n",
      "Requirement already satisfied: nvidia-cusolver-cu12==11.6.1.9 in ./.local/lib/python3.11/site-packages (from torch) (11.6.1.9)\n",
      "Requirement already satisfied: nvidia-cusparse-cu12==12.3.1.170 in ./.local/lib/python3.11/site-packages (from torch) (12.3.1.170)\n",
      "Requirement already satisfied: nvidia-cusparselt-cu12==0.6.2 in ./.local/lib/python3.11/site-packages (from torch) (0.6.2)\n",
      "Requirement already satisfied: nvidia-nccl-cu12==2.21.5 in ./.local/lib/python3.11/site-packages (from torch) (2.21.5)\n",
      "Requirement already satisfied: nvidia-nvtx-cu12==12.4.127 in ./.local/lib/python3.11/site-packages (from torch) (12.4.127)\n",
      "Requirement already satisfied: nvidia-nvjitlink-cu12==12.4.127 in ./.local/lib/python3.11/site-packages (from torch) (12.4.127)\n",
      "Requirement already satisfied: triton==3.2.0 in ./.local/lib/python3.11/site-packages (from torch) (3.2.0)\n",
      "Requirement already satisfied: sympy==1.13.1 in ./.local/lib/python3.11/site-packages (from torch) (1.13.1)\n",
      "Requirement already satisfied: mpmath<1.4,>=1.1.0 in ./.local/lib/python3.11/site-packages (from sympy==1.13.1->torch) (1.3.0)\n",
      "Requirement already satisfied: numpy in /modules/apps/ood/jupyterlab-matlab/lib/python3.11/site-packages (from torchvision) (1.26.4)\n",
      "Requirement already satisfied: pillow!=8.3.*,>=5.3.0 in /modules/apps/ood/jupyterlab-matlab/lib/python3.11/site-packages (from torchvision) (10.2.0)\n",
      "Requirement already satisfied: MarkupSafe>=2.0 in /modules/apps/ood/jupyterlab-matlab/lib/python3.11/site-packages (from jinja2->torch) (2.1.1)\n",
      "Note: you may need to restart the kernel to use updated packages.\n"
     ]
    }
   ],
   "source": [
    "pip install torch torchvision torchaudio\n"
   ]
  },
  {
   "cell_type": "code",
   "execution_count": 7,
   "id": "9f4e51bb-3463-4c6a-8a93-4e5954f4ccdb",
   "metadata": {},
   "outputs": [],
   "source": [
    "import os\n",
    "import torch\n",
    "import torchvision\n",
    "import torch.nn as nn\n",
    "import torch.optim as optim\n",
    "import matplotlib.pyplot as plt\n",
    "from torchvision import datasets, transforms\n",
    "from torchvision.utils import make_grid\n",
    "from torch.utils.data import DataLoader, random_split\n",
    "from contextlib import nullcontext\n",
    "from PIL import Image\n",
    "from torchvision.models import mobilenet_v2, MobileNet_V2_Weights\n",
    "\n"
   ]
  },
  {
   "cell_type": "code",
   "execution_count": 3,
   "id": "abb9621f-74af-4174-b90d-0df4f31b8703",
   "metadata": {},
   "outputs": [],
   "source": [
    "# Setting up my device \n",
    "device = torch.device(\"cuda\" if torch.cuda.is_available() else \"cpu\")\n",
    "\n",
    "# Path to your dataset\n",
    "data_path = \"/work/pi_csc561_uri_edu/datasets/intel-images\"\n",
    "train_path = os.path.join(data_path, \"training\")\n",
    "test_path = os.path.join(data_path, \"test\")\n",
    "\n",
    "# Define image transformations\n",
    "train_transform = transforms.Compose([\n",
    "    transforms.Resize((150, 150)),  # Resize the images\n",
    "    transforms.RandomHorizontalFlip(), # Flips the images horizontally\n",
    "    transforms.RandomRotation(10), # Randomly rotate images at least 10 degrees\n",
    "    transforms.ColorJitter(brightness=0.2, contrast=0.2), # Slightly changes brightness/contrast\n",
    "    transforms.ToTensor(),          # Convert the images to tensor\n",
    "])\n",
    "\n",
    "test_transform = transforms.Compose([\n",
    "    transforms.Resize((150, 150)),\n",
    "    transforms.ToTensor(),\n",
    "])\n",
    "\n",
    "# Dataset and split\n",
    "full_dataset = datasets.ImageFolder(root=train_path, transform=train_transform)\n",
    "class_names = full_dataset.classes\n",
    "train_size = int(0.8 * len(full_dataset))\n",
    "val_size = len(full_dataset) - train_size\n",
    "train_dataset, val_dataset = random_split(full_dataset, [train_size, val_size])\n",
    "\n",
    "# Create DataLoader for batching\n",
    "train_loader = DataLoader(train_dataset, batch_size=32, shuffle=True, num_workers=2, pin_memory=True)\n",
    "val_loader = DataLoader(val_dataset, batch_size=32, shuffle=False, num_workers=2, pin_memory=True)"
   ]
  },
  {
   "cell_type": "code",
   "execution_count": 8,
   "id": "e4199bcb-1b3f-43ff-b916-7a2aa19aca63",
   "metadata": {},
   "outputs": [
    {
     "name": "stderr",
     "output_type": "stream",
     "text": [
      "Downloading: \"https://download.pytorch.org/models/mobilenet_v2-7ebf99e0.pth\" to /home/emily_light_uri_edu/.cache/torch/hub/checkpoints/mobilenet_v2-7ebf99e0.pth\n",
      "100.0%\n"
     ]
    }
   ],
   "source": [
    "# Create model\n",
    "weights = MobileNet_V2_Weights.DEFAULT\n",
    "model = mobilenet_v2(weights=weights)\n",
    "num_classes = len(class_names)\n",
    "model.classifier[1] = nn.Linear(model.last_channel, num_classes)\n",
    "model = model.to(device)\n",
    "\n",
    "criterion = nn.CrossEntropyLoss()\n",
    "optimizer = optim.Adam(model.parameters(), lr=0.001)\n",
    "\n",
    "# Use AMP for support\n",
    "if torch.cuda.is_available():\n",
    "    from torch.cuda.amp import autocast, GradScaler\n",
    "    autocast_context = autocast(device_type='cuda')\n",
    "    scaler = GradScaler()\n",
    "else:\n",
    "    autocast_context = nullcontext()\n",
    "    class DummyScaler:\n",
    "        def scale(self, x): return x\n",
    "        def step(self, opt): opt.step()\n",
    "        def update(self): pass\n",
    "    scaler = DummyScaler()"
   ]
  },
  {
   "cell_type": "code",
   "execution_count": null,
   "id": "1e9edbda-1293-45c4-b2c7-d193007ee166",
   "metadata": {},
   "outputs": [
    {
     "name": "stdout",
     "output_type": "stream",
     "text": [
      "Start 1/10\n"
     ]
    }
   ],
   "source": [
    "# Train this model\n",
    "num_epochs = 10\n",
    "for epoch in range(num_epochs):\n",
    "    print(f\"Start {epoch+1}/{num_epochs}\")\n",
    "    model.train()\n",
    "    running_loss = 0.0\n",
    "    for inputs, labels in train_loader:\n",
    "        inputs, labels = inputs.to(device), labels.to(device)\n",
    "\n",
    "        optimizer.zero_grad()\n",
    "        with autocast_context:\n",
    "            outputs = model(inputs)\n",
    "            loss = criterion(outputs, labels)\n",
    "        scaler.scale(loss).backward()\n",
    "        scaler.step(optimizer)\n",
    "        scaler.update()\n",
    "\n",
    "        running_loss += loss.item()\n",
    "\n",
    "    avg_loss = running_loss / len(train_loader)\n",
    "    \n",
    "    # --- Validation Accuracy ---\n",
    "    model.eval()\n",
    "    correct, total = 0, 0\n",
    "    with torch.no_grad():\n",
    "        for inputs, labels in val_loader:\n",
    "            inputs, labels = inputs.to(device), labels.to(device)\n",
    "            outputs = model(inputs)\n",
    "            _, predicted = torch.max(outputs, 1)\n",
    "            total += labels.size(0)\n",
    "            correct += (predicted == labels).sum().item()\n",
    "    val_acc = 100 * correct / total\n",
    "    print(f\"Epoch {epoch+1}/{num_epochs}, Loss: {avg_loss:.4f}, Val Accuracy: {val_acc:.2f}%\")\n",
    "\n",
    "# --- Save Model ---\n",
    "torch.save(model.state_dict(), \"resnet18-trained.pth\")\n",
    "print(\"Model saved!\")"
   ]
  },
  {
   "cell_type": "code",
   "execution_count": null,
   "id": "a8ccc12e-9fd4-45ac-9ccb-0af9f21927f5",
   "metadata": {
    "jupyter": {
     "source_hidden": true
    },
    "tags": []
   },
   "outputs": [],
   "source": [
    "from torch.cuda.amp import autocast, GradScaler\n",
    "\n",
    "scaler = GradScaler(enabled=torch.cuda.is_available())\n",
    "\n",
    "for epoch in range(num_epochs):\n",
    "    model.train()\n",
    "    running_loss = 0.0\n",
    "    correct = 0\n",
    "    total = 0\n",
    "\n",
    "    print(f\"\\nEpoch {epoch+1}/{num_epochs}\")\n",
    "    for inputs, labels in train_loader:\n",
    "        inputs, labels = inputs.to(device), labels.to(device)\n",
    "\n",
    "        optimizer.zero_grad()\n",
    "        with autocast(device_type='cuda' if use_cuda else 'cpu'):\n",
    "            outputs = model(inputs)\n",
    "            loss = criterion(outputs, labels)\n",
    "\n",
    "        scaler.scale(loss).backward()\n",
    "        scaler.step(optimizer)\n",
    "        scaler.update()\n",
    "\n",
    "        running_loss += loss.item()\n",
    "        _, predicted = outputs.max(1)\n",
    "        correct += predicted.eq(labels).sum().item()\n",
    "        total += labels.size(0)\n",
    "\n",
    "    train_loss = running_loss / len(train_loader)\n",
    "    train_acc = correct / total\n",
    "\n",
    "    # Validation phase\n",
    "    model.eval()\n",
    "    val_loss = 0.0\n",
    "    val_correct = 0\n",
    "    val_total = 0\n",
    "    with torch.no_grad(), autocast(device_type='cuda' if use_cuda else 'cpu'):\n",
    "        for inputs, labels in val_loader:\n",
    "            inputs, labels = inputs.to(device), labels.to(device)\n",
    "            outputs = model(inputs)\n",
    "            loss = criterion(outputs, labels)\n",
    "            val_loss += loss.item()\n",
    "            _, predicted = outputs.max(1)\n",
    "            val_correct += predicted.eq(labels).sum().item()\n",
    "            val_total += labels.size(0)\n",
    "\n",
    "    val_loss /= len(val_loader)\n",
    "    val_acc = val_correct / val_total\n",
    "\n",
    "    print(f\"Train Loss: {train_loss:.4f}, Acc: {train_acc:.4f} | Val Loss: {val_loss:.4f}, Acc: {val_acc:.4f}\")\n"
   ]
  },
  {
   "cell_type": "code",
   "execution_count": null,
   "id": "86a7ba37-df7d-45f7-92e7-fade6433963e",
   "metadata": {},
   "outputs": [],
   "source": [
    "# Custom dataset for test images\n",
    "class TestImageDataset(torch.utils.data.Dataset):\n",
    "    def __init__(self, test_dir, transform=None):\n",
    "        self.image_paths = sorted([\n",
    "            os.path.join(test_dir, f) for f in os.listdir(test_dir)\n",
    "            if f.lower().endswith(('.png', '.jpg', '.jpeg'))\n",
    "        ])\n",
    "        self.transform = transform\n",
    "\n",
    "    def __len__(self): return len(self.image_paths)\n",
    "\n",
    "    def __getitem__(self, idx):\n",
    "        path = self.image_paths[idx]\n",
    "        image = Image.open(path).convert('RGB')\n",
    "        if self.transform:\n",
    "            image = self.transform(image)\n",
    "        filename = os.path.basename(path)\n",
    "        return image, filename"
   ]
  },
  {
   "cell_type": "code",
   "execution_count": null,
   "id": "a9b815ee-189e-48a6-9f0e-50fb4699d420",
   "metadata": {},
   "outputs": [],
   "source": [
    "# Load model and test loader\n",
    "model.load_state_dict(torch.load(\"resnet18-trained.pth\", map_location=device))\n",
    "model.eval()\n",
    "\n",
    "test_dataset = TestImageDataset(test_path, transform=test_transform)\n",
    "test_loader = DataLoader(test_dataset, batch_size=32, shuffle=False)"
   ]
  },
  {
   "cell_type": "code",
   "execution_count": null,
   "id": "6934ae4c-86c2-4519-86a2-9aae25e81229",
   "metadata": {},
   "outputs": [],
   "source": [
    "# Collect predictions\n",
    "predictions = []\n",
    "\n",
    "print(\"Starting inference...\")\n",
    "with torch.no_grad():\n",
    "    for i, (inputs, filenames) in enumerate(test_loader):\n",
    "        inputs = inputs.to(device)\n",
    "        outputs = model(inputs)\n",
    "        _, predicted = torch.max(outputs, 1)\n",
    "        for fname, label in zip(filenames, predicted.cpu().numpy()):\n",
    "            predictions.append((fname, label))\n",
    "\n",
    "        # Progress print every N batches\n",
    "        if (i + 1) % 10 == 0 or (i + 1) == len(test_loader):\n",
    "            print(f\"Processed {i + 1} of {len(test_loader)} batches\")\n",
    "\n",
    "print(\"Inference completed. Saving predictions...\")\n",
    "\n",
    "# Save to file\n",
    "with open(\"cnn-predictions.txt\", \"w\") as f:\n",
    "    for fname, label in predictions:\n",
    "        f.write(f\"{fname} {label}\\n\")\n",
    "\n",
    "print(\"Predictions saved to cnn-predictions.txt\")\n"
   ]
  },
  {
   "cell_type": "code",
   "execution_count": null,
   "id": "5e7dea20-7a4b-4120-b4d3-30162042f947",
   "metadata": {},
   "outputs": [],
   "source": []
  }
 ],
 "metadata": {
  "kernelspec": {
   "display_name": "Python 3 (ipykernel)",
   "language": "python",
   "name": "python3"
  },
  "language_info": {
   "codemirror_mode": {
    "name": "ipython",
    "version": 3
   },
   "file_extension": ".py",
   "mimetype": "text/x-python",
   "name": "python",
   "nbconvert_exporter": "python",
   "pygments_lexer": "ipython3",
   "version": "3.11.0"
  }
 },
 "nbformat": 4,
 "nbformat_minor": 5
}
